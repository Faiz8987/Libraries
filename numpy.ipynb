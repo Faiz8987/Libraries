{
 "cells": [
  {
   "cell_type": "code",
   "execution_count": 1,
   "id": "c826d3d6",
   "metadata": {},
   "outputs": [],
   "source": [
    "ll = [ 1,2,3,4,5]"
   ]
  },
  {
   "cell_type": "code",
   "execution_count": 2,
   "id": "4fb6cce3",
   "metadata": {},
   "outputs": [],
   "source": [
    "import numpy as np"
   ]
  },
  {
   "cell_type": "code",
   "execution_count": 4,
   "id": "756cd422",
   "metadata": {},
   "outputs": [],
   "source": [
    "n1 =np.array(ll)"
   ]
  },
  {
   "cell_type": "code",
   "execution_count": 5,
   "id": "780d5c07",
   "metadata": {},
   "outputs": [
    {
     "data": {
      "text/plain": [
       "array([1, 2, 3, 4, 5])"
      ]
     },
     "execution_count": 5,
     "metadata": {},
     "output_type": "execute_result"
    }
   ],
   "source": [
    "n1"
   ]
  },
  {
   "cell_type": "code",
   "execution_count": 6,
   "id": "f6e518c7",
   "metadata": {},
   "outputs": [],
   "source": [
    "n2 = np.array([[1,2,3,4],[4,3,2,1]])"
   ]
  },
  {
   "cell_type": "code",
   "execution_count": 7,
   "id": "5ba98f64",
   "metadata": {},
   "outputs": [
    {
     "data": {
      "text/plain": [
       "array([[1, 2, 3, 4],\n",
       "       [4, 3, 2, 1]])"
      ]
     },
     "execution_count": 7,
     "metadata": {},
     "output_type": "execute_result"
    }
   ],
   "source": [
    "n2"
   ]
  },
  {
   "cell_type": "code",
   "execution_count": 8,
   "id": "ee1e4f9a",
   "metadata": {},
   "outputs": [],
   "source": [
    "n3 = np.zeros((5,4))"
   ]
  },
  {
   "cell_type": "code",
   "execution_count": 9,
   "id": "ea357d55",
   "metadata": {},
   "outputs": [
    {
     "data": {
      "text/plain": [
       "array([[0., 0., 0., 0.],\n",
       "       [0., 0., 0., 0.],\n",
       "       [0., 0., 0., 0.],\n",
       "       [0., 0., 0., 0.],\n",
       "       [0., 0., 0., 0.]])"
      ]
     },
     "execution_count": 9,
     "metadata": {},
     "output_type": "execute_result"
    }
   ],
   "source": [
    "n3"
   ]
  },
  {
   "cell_type": "code",
   "execution_count": 10,
   "id": "3d7d5f3c",
   "metadata": {},
   "outputs": [],
   "source": [
    "n4 = np.zeros((10,10))"
   ]
  },
  {
   "cell_type": "code",
   "execution_count": 11,
   "id": "82bf338b",
   "metadata": {},
   "outputs": [
    {
     "data": {
      "text/plain": [
       "array([[0., 0., 0., 0., 0., 0., 0., 0., 0., 0.],\n",
       "       [0., 0., 0., 0., 0., 0., 0., 0., 0., 0.],\n",
       "       [0., 0., 0., 0., 0., 0., 0., 0., 0., 0.],\n",
       "       [0., 0., 0., 0., 0., 0., 0., 0., 0., 0.],\n",
       "       [0., 0., 0., 0., 0., 0., 0., 0., 0., 0.],\n",
       "       [0., 0., 0., 0., 0., 0., 0., 0., 0., 0.],\n",
       "       [0., 0., 0., 0., 0., 0., 0., 0., 0., 0.],\n",
       "       [0., 0., 0., 0., 0., 0., 0., 0., 0., 0.],\n",
       "       [0., 0., 0., 0., 0., 0., 0., 0., 0., 0.],\n",
       "       [0., 0., 0., 0., 0., 0., 0., 0., 0., 0.]])"
      ]
     },
     "execution_count": 11,
     "metadata": {},
     "output_type": "execute_result"
    }
   ],
   "source": [
    "n4"
   ]
  },
  {
   "cell_type": "code",
   "execution_count": 12,
   "id": "1d566928",
   "metadata": {},
   "outputs": [],
   "source": [
    "l1 = np.full((5,3),69)"
   ]
  },
  {
   "cell_type": "code",
   "execution_count": 13,
   "id": "cf0bea96",
   "metadata": {},
   "outputs": [
    {
     "data": {
      "text/plain": [
       "array([[69, 69, 69],\n",
       "       [69, 69, 69],\n",
       "       [69, 69, 69],\n",
       "       [69, 69, 69],\n",
       "       [69, 69, 69]])"
      ]
     },
     "execution_count": 13,
     "metadata": {},
     "output_type": "execute_result"
    }
   ],
   "source": [
    "l1"
   ]
  },
  {
   "cell_type": "code",
   "execution_count": 15,
   "id": "d92804f2",
   "metadata": {},
   "outputs": [],
   "source": [
    "rr = np.arange(1,11)"
   ]
  },
  {
   "cell_type": "code",
   "execution_count": 16,
   "id": "f7b40bfc",
   "metadata": {},
   "outputs": [
    {
     "data": {
      "text/plain": [
       "array([ 1,  2,  3,  4,  5,  6,  7,  8,  9, 10])"
      ]
     },
     "execution_count": 16,
     "metadata": {},
     "output_type": "execute_result"
    }
   ],
   "source": [
    "rr"
   ]
  },
  {
   "cell_type": "code",
   "execution_count": 17,
   "id": "257e440a",
   "metadata": {},
   "outputs": [],
   "source": [
    "ee = np.arange(5,55,5)"
   ]
  },
  {
   "cell_type": "code",
   "execution_count": 18,
   "id": "a099bb49",
   "metadata": {},
   "outputs": [
    {
     "data": {
      "text/plain": [
       "array([ 5, 10, 15, 20, 25, 30, 35, 40, 45, 50])"
      ]
     },
     "execution_count": 18,
     "metadata": {},
     "output_type": "execute_result"
    }
   ],
   "source": [
    "ee"
   ]
  },
  {
   "cell_type": "code",
   "execution_count": 19,
   "id": "bfb178b9",
   "metadata": {},
   "outputs": [],
   "source": [
    "tt = np.arange(7,77,7)"
   ]
  },
  {
   "cell_type": "code",
   "execution_count": 20,
   "id": "3a1de5bd",
   "metadata": {},
   "outputs": [
    {
     "data": {
      "text/plain": [
       "array([ 7, 14, 21, 28, 35, 42, 49, 56, 63, 70])"
      ]
     },
     "execution_count": 20,
     "metadata": {},
     "output_type": "execute_result"
    }
   ],
   "source": [
    "tt"
   ]
  },
  {
   "cell_type": "code",
   "execution_count": 21,
   "id": "13c4a9a1",
   "metadata": {},
   "outputs": [],
   "source": [
    "l1 = [1,2,3,4,5]"
   ]
  },
  {
   "cell_type": "code",
   "execution_count": 22,
   "id": "20763105",
   "metadata": {},
   "outputs": [],
   "source": [
    "uu = np.array(ll)"
   ]
  },
  {
   "cell_type": "code",
   "execution_count": 23,
   "id": "cb6b0b87",
   "metadata": {},
   "outputs": [
    {
     "data": {
      "text/plain": [
       "array([1, 2, 3, 4, 5])"
      ]
     },
     "execution_count": 23,
     "metadata": {},
     "output_type": "execute_result"
    }
   ],
   "source": [
    "uu"
   ]
  },
  {
   "cell_type": "code",
   "execution_count": 26,
   "id": "04c0e326",
   "metadata": {},
   "outputs": [],
   "source": [
    "ff = np.array([[1,4,8,6],[6,8,4,1]])"
   ]
  },
  {
   "cell_type": "code",
   "execution_count": 27,
   "id": "da6fc707",
   "metadata": {},
   "outputs": [
    {
     "data": {
      "text/plain": [
       "array([[1, 4, 8, 6],\n",
       "       [6, 8, 4, 1]])"
      ]
     },
     "execution_count": 27,
     "metadata": {},
     "output_type": "execute_result"
    }
   ],
   "source": [
    "ff"
   ]
  },
  {
   "cell_type": "code",
   "execution_count": 28,
   "id": "b92bcaa1",
   "metadata": {},
   "outputs": [],
   "source": [
    "m1 = np.zeros((4,5))"
   ]
  },
  {
   "cell_type": "code",
   "execution_count": 29,
   "id": "a4c48585",
   "metadata": {},
   "outputs": [
    {
     "data": {
      "text/plain": [
       "array([[0., 0., 0., 0., 0.],\n",
       "       [0., 0., 0., 0., 0.],\n",
       "       [0., 0., 0., 0., 0.],\n",
       "       [0., 0., 0., 0., 0.]])"
      ]
     },
     "execution_count": 29,
     "metadata": {},
     "output_type": "execute_result"
    }
   ],
   "source": [
    "m1"
   ]
  },
  {
   "cell_type": "code",
   "execution_count": 30,
   "id": "8a5db1f3",
   "metadata": {},
   "outputs": [],
   "source": [
    "k1 = np.full((2,5),4)"
   ]
  },
  {
   "cell_type": "code",
   "execution_count": 31,
   "id": "d71edacf",
   "metadata": {},
   "outputs": [
    {
     "data": {
      "text/plain": [
       "array([[4, 4, 4, 4, 4],\n",
       "       [4, 4, 4, 4, 4]])"
      ]
     },
     "execution_count": 31,
     "metadata": {},
     "output_type": "execute_result"
    }
   ],
   "source": [
    "k1"
   ]
  },
  {
   "cell_type": "code",
   "execution_count": 32,
   "id": "ae27955d",
   "metadata": {},
   "outputs": [],
   "source": [
    "oo = np.arange(1,11)"
   ]
  },
  {
   "cell_type": "code",
   "execution_count": 33,
   "id": "94ac6845",
   "metadata": {},
   "outputs": [
    {
     "data": {
      "text/plain": [
       "array([ 1,  2,  3,  4,  5,  6,  7,  8,  9, 10])"
      ]
     },
     "execution_count": 33,
     "metadata": {},
     "output_type": "execute_result"
    }
   ],
   "source": [
    "oo"
   ]
  },
  {
   "cell_type": "code",
   "execution_count": 34,
   "id": "3d00d8a8",
   "metadata": {},
   "outputs": [],
   "source": [
    "pp = np.arange(10,110,10)"
   ]
  },
  {
   "cell_type": "code",
   "execution_count": 35,
   "id": "e0a0e110",
   "metadata": {},
   "outputs": [
    {
     "data": {
      "text/plain": [
       "array([ 10,  20,  30,  40,  50,  60,  70,  80,  90, 100])"
      ]
     },
     "execution_count": 35,
     "metadata": {},
     "output_type": "execute_result"
    }
   ],
   "source": [
    "pp\n"
   ]
  },
  {
   "cell_type": "code",
   "execution_count": 36,
   "id": "b3a8e708",
   "metadata": {},
   "outputs": [],
   "source": [
    "hh = np.random.randint(1,10,9)"
   ]
  },
  {
   "cell_type": "code",
   "execution_count": 37,
   "id": "6fd07a89",
   "metadata": {},
   "outputs": [
    {
     "data": {
      "text/plain": [
       "array([7, 4, 9, 1, 6, 7, 1, 4, 3])"
      ]
     },
     "execution_count": 37,
     "metadata": {},
     "output_type": "execute_result"
    }
   ],
   "source": [
    "hh"
   ]
  },
  {
   "cell_type": "code",
   "execution_count": 38,
   "id": "20e57c83",
   "metadata": {},
   "outputs": [],
   "source": [
    "n1 = np.array([[1,2,3],[7,8,9]])"
   ]
  },
  {
   "cell_type": "code",
   "execution_count": 39,
   "id": "1c904448",
   "metadata": {},
   "outputs": [
    {
     "data": {
      "text/plain": [
       "array([[1, 2, 3],\n",
       "       [7, 8, 9]])"
      ]
     },
     "execution_count": 39,
     "metadata": {},
     "output_type": "execute_result"
    }
   ],
   "source": [
    "n1"
   ]
  },
  {
   "cell_type": "code",
   "execution_count": 43,
   "id": "59de3bbb",
   "metadata": {},
   "outputs": [
    {
     "data": {
      "text/plain": [
       "(2, 3)"
      ]
     },
     "execution_count": 43,
     "metadata": {},
     "output_type": "execute_result"
    }
   ],
   "source": [
    "n1.shape"
   ]
  },
  {
   "cell_type": "code",
   "execution_count": 44,
   "id": "55631725",
   "metadata": {},
   "outputs": [],
   "source": [
    "n1.shape = (3,2)"
   ]
  },
  {
   "cell_type": "code",
   "execution_count": 45,
   "id": "9e96573f",
   "metadata": {},
   "outputs": [
    {
     "data": {
      "text/plain": [
       "array([[1, 2],\n",
       "       [3, 7],\n",
       "       [8, 9]])"
      ]
     },
     "execution_count": 45,
     "metadata": {},
     "output_type": "execute_result"
    }
   ],
   "source": [
    "n1"
   ]
  },
  {
   "cell_type": "code",
   "execution_count": 49,
   "id": "55f4c799",
   "metadata": {},
   "outputs": [],
   "source": [
    "n1.shape=(6,1)"
   ]
  },
  {
   "cell_type": "code",
   "execution_count": 50,
   "id": "5a8272e3",
   "metadata": {},
   "outputs": [
    {
     "data": {
      "text/plain": [
       "array([[1],\n",
       "       [2],\n",
       "       [3],\n",
       "       [7],\n",
       "       [8],\n",
       "       [9]])"
      ]
     },
     "execution_count": 50,
     "metadata": {},
     "output_type": "execute_result"
    }
   ],
   "source": [
    "n1"
   ]
  },
  {
   "cell_type": "code",
   "execution_count": 51,
   "id": "e184b11e",
   "metadata": {},
   "outputs": [],
   "source": [
    "l1 = [10,20,33]\n",
    "l2 = [78,95,66]"
   ]
  },
  {
   "cell_type": "code",
   "execution_count": 53,
   "id": "525cd4b0",
   "metadata": {},
   "outputs": [
    {
     "data": {
      "text/plain": [
       "array([[10, 20, 33],\n",
       "       [78, 95, 66]])"
      ]
     },
     "execution_count": 53,
     "metadata": {},
     "output_type": "execute_result"
    }
   ],
   "source": [
    "np.vstack((l1,l2))"
   ]
  },
  {
   "cell_type": "code",
   "execution_count": 55,
   "id": "eddc5882",
   "metadata": {},
   "outputs": [
    {
     "data": {
      "text/plain": [
       "array([10, 20, 33, 78, 95, 66])"
      ]
     },
     "execution_count": 55,
     "metadata": {},
     "output_type": "execute_result"
    }
   ],
   "source": [
    "np.hstack((l1,l2))"
   ]
  },
  {
   "cell_type": "code",
   "execution_count": 57,
   "id": "74d9e7bf",
   "metadata": {},
   "outputs": [
    {
     "data": {
      "text/plain": [
       "array([[10, 78],\n",
       "       [20, 95],\n",
       "       [33, 66]])"
      ]
     },
     "execution_count": 57,
     "metadata": {},
     "output_type": "execute_result"
    }
   ],
   "source": [
    "np.column_stack((l1,l2))"
   ]
  },
  {
   "cell_type": "code",
   "execution_count": 1,
   "id": "ec75fbf3",
   "metadata": {},
   "outputs": [],
   "source": [
    "import numpy as np"
   ]
  },
  {
   "cell_type": "code",
   "execution_count": 2,
   "id": "dfbc801c",
   "metadata": {},
   "outputs": [],
   "source": [
    "hh = np.array([10,20,30,40,50])"
   ]
  },
  {
   "cell_type": "code",
   "execution_count": 3,
   "id": "91da3aae",
   "metadata": {},
   "outputs": [],
   "source": [
    "jj = np.array([40,50,60,70,80])"
   ]
  },
  {
   "cell_type": "code",
   "execution_count": 4,
   "id": "92696ca9",
   "metadata": {},
   "outputs": [
    {
     "data": {
      "text/plain": [
       "array([40, 50])"
      ]
     },
     "execution_count": 4,
     "metadata": {},
     "output_type": "execute_result"
    }
   ],
   "source": [
    "np.intersect1d(hh,jj)"
   ]
  },
  {
   "cell_type": "code",
   "execution_count": 5,
   "id": "a5f8a134",
   "metadata": {},
   "outputs": [
    {
     "data": {
      "text/plain": [
       "array([10, 20, 30])"
      ]
     },
     "execution_count": 5,
     "metadata": {},
     "output_type": "execute_result"
    }
   ],
   "source": [
    "np.setdiff1d(hh,jj)"
   ]
  },
  {
   "cell_type": "code",
   "execution_count": 6,
   "id": "312753a7",
   "metadata": {},
   "outputs": [
    {
     "data": {
      "text/plain": [
       "array([40, 50])"
      ]
     },
     "execution_count": 6,
     "metadata": {},
     "output_type": "execute_result"
    }
   ],
   "source": [
    "np.intersect1d(jj,hh)"
   ]
  },
  {
   "cell_type": "code",
   "execution_count": 7,
   "id": "8c9fb912",
   "metadata": {},
   "outputs": [
    {
     "data": {
      "text/plain": [
       "array([60, 70, 80])"
      ]
     },
     "execution_count": 7,
     "metadata": {},
     "output_type": "execute_result"
    }
   ],
   "source": [
    "np.setdiff1d(jj,hh)"
   ]
  },
  {
   "cell_type": "code",
   "execution_count": 9,
   "id": "7d31c4e0",
   "metadata": {},
   "outputs": [
    {
     "data": {
      "text/plain": [
       "450"
      ]
     },
     "execution_count": 9,
     "metadata": {},
     "output_type": "execute_result"
    }
   ],
   "source": [
    "np.sum([hh,jj])"
   ]
  },
  {
   "cell_type": "code",
   "execution_count": 10,
   "id": "86d890ba",
   "metadata": {},
   "outputs": [
    {
     "data": {
      "text/plain": [
       "array([ 50,  70,  90, 110, 130])"
      ]
     },
     "execution_count": 10,
     "metadata": {},
     "output_type": "execute_result"
    }
   ],
   "source": [
    "np.sum([hh,jj],axis=0)"
   ]
  },
  {
   "cell_type": "code",
   "execution_count": 12,
   "id": "21cae49c",
   "metadata": {},
   "outputs": [
    {
     "data": {
      "text/plain": [
       "array([150, 300])"
      ]
     },
     "execution_count": 12,
     "metadata": {},
     "output_type": "execute_result"
    }
   ],
   "source": [
    "np.sum([hh,jj],axis=1)"
   ]
  },
  {
   "cell_type": "code",
   "execution_count": 13,
   "id": "88af2469",
   "metadata": {},
   "outputs": [],
   "source": [
    "hh = hh+1\n"
   ]
  },
  {
   "cell_type": "code",
   "execution_count": 14,
   "id": "9927cb24",
   "metadata": {},
   "outputs": [
    {
     "data": {
      "text/plain": [
       "array([11, 21, 31, 41, 51])"
      ]
     },
     "execution_count": 14,
     "metadata": {},
     "output_type": "execute_result"
    }
   ],
   "source": [
    "hh"
   ]
  },
  {
   "cell_type": "code",
   "execution_count": 15,
   "id": "cfe8ca29",
   "metadata": {},
   "outputs": [],
   "source": [
    "hh = hh-1"
   ]
  },
  {
   "cell_type": "code",
   "execution_count": 16,
   "id": "571ed62e",
   "metadata": {},
   "outputs": [
    {
     "data": {
      "text/plain": [
       "array([10, 20, 30, 40, 50])"
      ]
     },
     "execution_count": 16,
     "metadata": {},
     "output_type": "execute_result"
    }
   ],
   "source": [
    "hh"
   ]
  },
  {
   "cell_type": "code",
   "execution_count": 17,
   "id": "2238bd6f",
   "metadata": {},
   "outputs": [],
   "source": [
    "hh = hh/2"
   ]
  },
  {
   "cell_type": "code",
   "execution_count": 18,
   "id": "824a2711",
   "metadata": {},
   "outputs": [
    {
     "data": {
      "text/plain": [
       "array([ 5., 10., 15., 20., 25.])"
      ]
     },
     "execution_count": 18,
     "metadata": {},
     "output_type": "execute_result"
    }
   ],
   "source": [
    "hh"
   ]
  },
  {
   "cell_type": "code",
   "execution_count": 19,
   "id": "10b22eff",
   "metadata": {},
   "outputs": [],
   "source": [
    "hh = hh*2"
   ]
  },
  {
   "cell_type": "code",
   "execution_count": 20,
   "id": "b339a044",
   "metadata": {},
   "outputs": [
    {
     "data": {
      "text/plain": [
       "array([10., 20., 30., 40., 50.])"
      ]
     },
     "execution_count": 20,
     "metadata": {},
     "output_type": "execute_result"
    }
   ],
   "source": [
    "hh"
   ]
  },
  {
   "cell_type": "code",
   "execution_count": 1,
   "id": "ad0bb775",
   "metadata": {},
   "outputs": [],
   "source": [
    "import numpy as np"
   ]
  },
  {
   "cell_type": "code",
   "execution_count": 4,
   "id": "d98db553",
   "metadata": {},
   "outputs": [],
   "source": [
    "oo = np.array([10,20,50,60])"
   ]
  },
  {
   "cell_type": "code",
   "execution_count": 5,
   "id": "7a35f27e",
   "metadata": {},
   "outputs": [
    {
     "data": {
      "text/plain": [
       "array([10, 20, 50, 60])"
      ]
     },
     "execution_count": 5,
     "metadata": {},
     "output_type": "execute_result"
    }
   ],
   "source": [
    "oo"
   ]
  },
  {
   "cell_type": "code",
   "execution_count": 6,
   "id": "f53bfd9b",
   "metadata": {},
   "outputs": [
    {
     "data": {
      "text/plain": [
       "35.0"
      ]
     },
     "execution_count": 6,
     "metadata": {},
     "output_type": "execute_result"
    }
   ],
   "source": [
    "np.mean(oo)"
   ]
  },
  {
   "cell_type": "code",
   "execution_count": 7,
   "id": "08f1afe3",
   "metadata": {},
   "outputs": [
    {
     "data": {
      "text/plain": [
       "35.0"
      ]
     },
     "execution_count": 7,
     "metadata": {},
     "output_type": "execute_result"
    }
   ],
   "source": [
    "np.median(oo)"
   ]
  },
  {
   "cell_type": "code",
   "execution_count": 8,
   "id": "b936b7d5",
   "metadata": {},
   "outputs": [
    {
     "data": {
      "text/plain": [
       "20.615528128088304"
      ]
     },
     "execution_count": 8,
     "metadata": {},
     "output_type": "execute_result"
    }
   ],
   "source": [
    "np.std(oo)"
   ]
  },
  {
   "cell_type": "code",
   "execution_count": 9,
   "id": "020ed719",
   "metadata": {},
   "outputs": [
    {
     "data": {
      "text/plain": [
       "array([10, 20, 50, 60])"
      ]
     },
     "execution_count": 9,
     "metadata": {},
     "output_type": "execute_result"
    }
   ],
   "source": [
    "oo"
   ]
  },
  {
   "cell_type": "code",
   "execution_count": 12,
   "id": "9a337597",
   "metadata": {},
   "outputs": [],
   "source": [
    "np.save('faiz',oo)"
   ]
  },
  {
   "cell_type": "code",
   "execution_count": 13,
   "id": "f61546ff",
   "metadata": {},
   "outputs": [
    {
     "data": {
      "text/plain": [
       "array([10, 20, 50, 60])"
      ]
     },
     "execution_count": 13,
     "metadata": {},
     "output_type": "execute_result"
    }
   ],
   "source": [
    "np.load('faiz.npy')"
   ]
  },
  {
   "cell_type": "code",
   "execution_count": 14,
   "id": "51767a66",
   "metadata": {},
   "outputs": [
    {
     "data": {
      "text/plain": [
       "'faiz.npy'"
      ]
     },
     "execution_count": 14,
     "metadata": {},
     "output_type": "execute_result"
    }
   ],
   "source": [
    "'faiz.npy'"
   ]
  },
  {
   "cell_type": "code",
   "execution_count": null,
   "id": "a35cbc98",
   "metadata": {},
   "outputs": [],
   "source": []
  }
 ],
 "metadata": {
  "kernelspec": {
   "display_name": "Python 3 (ipykernel)",
   "language": "python",
   "name": "python3"
  },
  "language_info": {
   "codemirror_mode": {
    "name": "ipython",
    "version": 3
   },
   "file_extension": ".py",
   "mimetype": "text/x-python",
   "name": "python",
   "nbconvert_exporter": "python",
   "pygments_lexer": "ipython3",
   "version": "3.9.13"
  }
 },
 "nbformat": 4,
 "nbformat_minor": 5
}
